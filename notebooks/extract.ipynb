{
 "cells": [
  {
   "cell_type": "markdown",
   "id": "5e8eb0ad",
   "metadata": {},
   "source": [
    "### Load packages\n"
   ]
  },
  {
   "cell_type": "code",
   "execution_count": null,
   "id": "91ab43e0",
   "metadata": {},
   "outputs": [],
   "source": [
    "import os\n",
    "import pandas as pd"
   ]
  },
  {
   "cell_type": "markdown",
   "id": "f4f76111",
   "metadata": {},
   "source": [
    "### Load files\n"
   ]
  },
  {
   "cell_type": "code",
   "execution_count": 9,
   "id": "e87f8be6",
   "metadata": {},
   "outputs": [],
   "source": [
    "raw_file = \"/home/joan/Projects/python/call_center_pipeline/data/5311_Call_Centre_-_Raw_dataset_20250901.csv\"\n",
    "if os.path.exists(raw_file):\n",
    "    df = pd.read_csv(raw_file)\n",
    "    df.head()\n",
    "else:\n",
    "    print(f\"File not found: {raw_file}\")"
   ]
  },
  {
   "cell_type": "markdown",
   "id": "e6629fb4",
   "metadata": {},
   "source": [
    "### Basic data inspection\n"
   ]
  },
  {
   "cell_type": "code",
   "execution_count": 16,
   "id": "625ce633",
   "metadata": {},
   "outputs": [
    {
     "name": "stdout",
     "output_type": "stream",
     "text": [
      "<class 'pandas.core.frame.DataFrame'>\n",
      "RangeIndex: 476 entries, 0 to 475\n",
      "Data columns (total 10 columns):\n",
      " #   Column                 Non-Null Count  Dtype \n",
      "---  ------                 --------------  ----- \n",
      " 0   id                     476 non-null    object\n",
      " 1   Date                   476 non-null    object\n",
      " 2   APPLICATION            476 non-null    object\n",
      " 3   OFFERED                476 non-null    int64 \n",
      " 4   ANSWERED               476 non-null    int64 \n",
      " 5   AVG ANS DELAY          476 non-null    object\n",
      " 6   AVG ANS DELAY SECONDS  476 non-null    object\n",
      " 7   MAX ANS DELAY          476 non-null    object\n",
      " 8   ABANDONED              476 non-null    int64 \n",
      " 9   DelayCallsProduct      476 non-null    object\n",
      "dtypes: int64(3), object(7)\n",
      "memory usage: 37.3+ KB\n"
     ]
    }
   ],
   "source": [
    "# Check basic data\n",
    "df.info()"
   ]
  },
  {
   "cell_type": "code",
   "execution_count": null,
   "id": "089dc142",
   "metadata": {},
   "outputs": [
    {
     "data": {
      "text/html": [
       "<div>\n",
       "<style scoped>\n",
       "    .dataframe tbody tr th:only-of-type {\n",
       "        vertical-align: middle;\n",
       "    }\n",
       "\n",
       "    .dataframe tbody tr th {\n",
       "        vertical-align: top;\n",
       "    }\n",
       "\n",
       "    .dataframe thead th {\n",
       "        text-align: right;\n",
       "    }\n",
       "</style>\n",
       "<table border=\"1\" class=\"dataframe\">\n",
       "  <thead>\n",
       "    <tr style=\"text-align: right;\">\n",
       "      <th></th>\n",
       "      <th>id</th>\n",
       "      <th>Date</th>\n",
       "      <th>APPLICATION</th>\n",
       "      <th>OFFERED</th>\n",
       "      <th>ANSWERED</th>\n",
       "      <th>AVG ANS DELAY</th>\n",
       "      <th>AVG ANS DELAY SECONDS</th>\n",
       "      <th>MAX ANS DELAY</th>\n",
       "      <th>ABANDONED</th>\n",
       "      <th>DelayCallsProduct</th>\n",
       "    </tr>\n",
       "  </thead>\n",
       "  <tbody>\n",
       "    <tr>\n",
       "      <th>0</th>\n",
       "      <td>2018-02-14-dba_cs_268_5311_gen_inq_script</td>\n",
       "      <td>2018/02/14</td>\n",
       "      <td>dba_cs_268_5311_gen_inq_script</td>\n",
       "      <td>423</td>\n",
       "      <td>375</td>\n",
       "      <td>00:02:44</td>\n",
       "      <td>164</td>\n",
       "      <td>00:09:47</td>\n",
       "      <td>48</td>\n",
       "      <td>61,500</td>\n",
       "    </tr>\n",
       "    <tr>\n",
       "      <th>1</th>\n",
       "      <td>2018-02-15-dba_cs_268_5311_gen_inq_script</td>\n",
       "      <td>2018/02/15</td>\n",
       "      <td>dba_cs_268_5311_gen_inq_script</td>\n",
       "      <td>395</td>\n",
       "      <td>369</td>\n",
       "      <td>00:00:50</td>\n",
       "      <td>50</td>\n",
       "      <td>00:07:15</td>\n",
       "      <td>26</td>\n",
       "      <td>18,450</td>\n",
       "    </tr>\n",
       "    <tr>\n",
       "      <th>2</th>\n",
       "      <td>2018-02-16-dba_cs_268_5311_gen_inq_script</td>\n",
       "      <td>2018/02/16</td>\n",
       "      <td>dba_cs_268_5311_gen_inq_script</td>\n",
       "      <td>369</td>\n",
       "      <td>349</td>\n",
       "      <td>00:01:21</td>\n",
       "      <td>81</td>\n",
       "      <td>00:07:14</td>\n",
       "      <td>19</td>\n",
       "      <td>28,269</td>\n",
       "    </tr>\n",
       "    <tr>\n",
       "      <th>3</th>\n",
       "      <td>2018-02-19-dba_cs_268_5311_gen_inq_script</td>\n",
       "      <td>2018/02/19</td>\n",
       "      <td>dba_cs_268_5311_gen_inq_script</td>\n",
       "      <td>0</td>\n",
       "      <td>0</td>\n",
       "      <td>00:00:00</td>\n",
       "      <td>0</td>\n",
       "      <td>00:00:00</td>\n",
       "      <td>0</td>\n",
       "      <td>0</td>\n",
       "    </tr>\n",
       "    <tr>\n",
       "      <th>4</th>\n",
       "      <td>2018-02-20-dba_cs_268_5311_gen_inq_script</td>\n",
       "      <td>2018/02/20</td>\n",
       "      <td>dba_cs_268_5311_gen_inq_script</td>\n",
       "      <td>558</td>\n",
       "      <td>449</td>\n",
       "      <td>00:05:24</td>\n",
       "      <td>324</td>\n",
       "      <td>00:21:48</td>\n",
       "      <td>109</td>\n",
       "      <td>145,476</td>\n",
       "    </tr>\n",
       "  </tbody>\n",
       "</table>\n",
       "</div>"
      ],
      "text/plain": [
       "                                          id        Date  \\\n",
       "0  2018-02-14-dba_cs_268_5311_gen_inq_script  2018/02/14   \n",
       "1  2018-02-15-dba_cs_268_5311_gen_inq_script  2018/02/15   \n",
       "2  2018-02-16-dba_cs_268_5311_gen_inq_script  2018/02/16   \n",
       "3  2018-02-19-dba_cs_268_5311_gen_inq_script  2018/02/19   \n",
       "4  2018-02-20-dba_cs_268_5311_gen_inq_script  2018/02/20   \n",
       "\n",
       "                      APPLICATION  OFFERED  ANSWERED AVG ANS DELAY  \\\n",
       "0  dba_cs_268_5311_gen_inq_script      423       375      00:02:44   \n",
       "1  dba_cs_268_5311_gen_inq_script      395       369      00:00:50   \n",
       "2  dba_cs_268_5311_gen_inq_script      369       349      00:01:21   \n",
       "3  dba_cs_268_5311_gen_inq_script        0         0      00:00:00   \n",
       "4  dba_cs_268_5311_gen_inq_script      558       449      00:05:24   \n",
       "\n",
       "  AVG ANS DELAY SECONDS MAX ANS DELAY  ABANDONED DelayCallsProduct  \n",
       "0                   164      00:09:47         48            61,500  \n",
       "1                    50      00:07:15         26            18,450  \n",
       "2                    81      00:07:14         19            28,269  \n",
       "3                     0      00:00:00          0                 0  \n",
       "4                   324      00:21:48        109           145,476  "
      ]
     },
     "execution_count": 11,
     "metadata": {},
     "output_type": "execute_result"
    }
   ],
   "source": [
    "# Display head\n",
    "df.head()"
   ]
  },
  {
   "cell_type": "code",
   "execution_count": 13,
   "id": "a637923e",
   "metadata": {},
   "outputs": [
    {
     "data": {
      "text/html": [
       "<div>\n",
       "<style scoped>\n",
       "    .dataframe tbody tr th:only-of-type {\n",
       "        vertical-align: middle;\n",
       "    }\n",
       "\n",
       "    .dataframe tbody tr th {\n",
       "        vertical-align: top;\n",
       "    }\n",
       "\n",
       "    .dataframe thead th {\n",
       "        text-align: right;\n",
       "    }\n",
       "</style>\n",
       "<table border=\"1\" class=\"dataframe\">\n",
       "  <thead>\n",
       "    <tr style=\"text-align: right;\">\n",
       "      <th></th>\n",
       "      <th>OFFERED</th>\n",
       "      <th>ANSWERED</th>\n",
       "      <th>ABANDONED</th>\n",
       "    </tr>\n",
       "  </thead>\n",
       "  <tbody>\n",
       "    <tr>\n",
       "      <th>count</th>\n",
       "      <td>476.000000</td>\n",
       "      <td>476.000000</td>\n",
       "      <td>476.000000</td>\n",
       "    </tr>\n",
       "    <tr>\n",
       "      <th>mean</th>\n",
       "      <td>294.306723</td>\n",
       "      <td>180.123950</td>\n",
       "      <td>70.115546</td>\n",
       "    </tr>\n",
       "    <tr>\n",
       "      <th>std</th>\n",
       "      <td>154.309158</td>\n",
       "      <td>116.931538</td>\n",
       "      <td>51.975108</td>\n",
       "    </tr>\n",
       "    <tr>\n",
       "      <th>min</th>\n",
       "      <td>0.000000</td>\n",
       "      <td>0.000000</td>\n",
       "      <td>0.000000</td>\n",
       "    </tr>\n",
       "    <tr>\n",
       "      <th>25%</th>\n",
       "      <td>232.750000</td>\n",
       "      <td>99.750000</td>\n",
       "      <td>23.750000</td>\n",
       "    </tr>\n",
       "    <tr>\n",
       "      <th>50%</th>\n",
       "      <td>329.000000</td>\n",
       "      <td>167.000000</td>\n",
       "      <td>65.000000</td>\n",
       "    </tr>\n",
       "    <tr>\n",
       "      <th>75%</th>\n",
       "      <td>408.000000</td>\n",
       "      <td>284.250000</td>\n",
       "      <td>107.250000</td>\n",
       "    </tr>\n",
       "    <tr>\n",
       "      <th>max</th>\n",
       "      <td>672.000000</td>\n",
       "      <td>473.000000</td>\n",
       "      <td>210.000000</td>\n",
       "    </tr>\n",
       "  </tbody>\n",
       "</table>\n",
       "</div>"
      ],
      "text/plain": [
       "          OFFERED    ANSWERED   ABANDONED\n",
       "count  476.000000  476.000000  476.000000\n",
       "mean   294.306723  180.123950   70.115546\n",
       "std    154.309158  116.931538   51.975108\n",
       "min      0.000000    0.000000    0.000000\n",
       "25%    232.750000   99.750000   23.750000\n",
       "50%    329.000000  167.000000   65.000000\n",
       "75%    408.000000  284.250000  107.250000\n",
       "max    672.000000  473.000000  210.000000"
      ]
     },
     "execution_count": 13,
     "metadata": {},
     "output_type": "execute_result"
    }
   ],
   "source": [
    "# Sumary Statistics\n",
    "df.describe()"
   ]
  },
  {
   "cell_type": "markdown",
   "id": "0a4b806b",
   "metadata": {},
   "source": [
    "### Data Cleaning\n"
   ]
  },
  {
   "cell_type": "code",
   "execution_count": null,
   "id": "5ad9fde5",
   "metadata": {},
   "outputs": [
    {
     "data": {
      "text/plain": [
       "id                       0\n",
       "Date                     0\n",
       "APPLICATION              0\n",
       "OFFERED                  0\n",
       "ANSWERED                 0\n",
       "AVG ANS DELAY            0\n",
       "AVG ANS DELAY SECONDS    0\n",
       "MAX ANS DELAY            0\n",
       "ABANDONED                0\n",
       "DelayCallsProduct        0\n",
       "dtype: int64"
      ]
     },
     "execution_count": 19,
     "metadata": {},
     "output_type": "execute_result"
    }
   ],
   "source": [
    "# Lets check for missing values\n",
    "df.isnull().sum()"
   ]
  },
  {
   "cell_type": "markdown",
   "id": "f8531510",
   "metadata": {},
   "source": [
    "Lucky us that there are no missing values! Data is clean. Bit of a miracle. We still have lot of work to do.\n"
   ]
  },
  {
   "cell_type": "code",
   "execution_count": null,
   "id": "c88601bf",
   "metadata": {},
   "outputs": [
    {
     "name": "stdout",
     "output_type": "stream",
     "text": [
      "No dupes. We are good to go.\n"
     ]
    }
   ],
   "source": [
    "# Let's check for dupes\n",
    "duplicates = df[df.duplicated()]\n",
    "\n",
    "\n",
    "if not duplicates.empty:\n",
    "    print(f\"Dupes found: {len(duplicates)} rows. Please deal with them\")\n",
    "else:\n",
    "    print(\"No dupes. We are good to go.\")"
   ]
  },
  {
   "cell_type": "code",
   "execution_count": 25,
   "id": "1e8d0f79",
   "metadata": {},
   "outputs": [
    {
     "name": "stdout",
     "output_type": "stream",
     "text": [
      "Original DataFrame columns:\n",
      "Index(['id', 'date', 'application', 'offered', 'answered', 'avg ans delay',\n",
      "       'avg ans delay seconds', 'max ans delay', 'abandoned',\n",
      "       'delaycallsproduct'],\n",
      "      dtype='object')\n",
      "\n",
      "DataFrame columns after converting to lowercase:\n",
      "Index(['id', 'date', 'application', 'offered', 'answered', 'avg_ans_delay',\n",
      "       'avg_ans_delay_seconds', 'max_ans_delay', 'abandoned',\n",
      "       'delaycallsproduct'],\n",
      "      dtype='object')\n"
     ]
    }
   ],
   "source": [
    "# Let's transform those columns names to lower case and replace the blank spaces to lower case\n",
    "print(\"Original DataFrame columns:\")\n",
    "print(df.columns)\n",
    "\n",
    "# Convert to lower case\n",
    "df.columns = df.columns.str.lower()\n",
    "\n",
    "# Convert to lower case\n",
    "df.columns = df.columns.str.replace(\" \", \"_\")\n",
    "\n",
    "print(\"\\nDataFrame columns after converting to lowercase:\")\n",
    "print(df.columns)"
   ]
  },
  {
   "cell_type": "code",
   "execution_count": 27,
   "id": "24799607",
   "metadata": {},
   "outputs": [
    {
     "data": {
      "text/plain": [
       "Index(['id', 'date', 'application', 'offered', 'answered', 'avg_ans_delay',\n",
       "       'avg_ans_delay_seconds', 'max_ans_delay', 'abandoned',\n",
       "       'delay_calls_product'],\n",
       "      dtype='object')"
      ]
     },
     "execution_count": 27,
     "metadata": {},
     "output_type": "execute_result"
    }
   ],
   "source": [
    "# Let handle that 'delaycallsproduct' column and make\n",
    "df.rename(columns={\"delaycallsproduct\": \"delay_calls_product\"}, inplace=True)\n",
    "df.columns"
   ]
  },
  {
   "cell_type": "code",
   "execution_count": null,
   "id": "5dba5658",
   "metadata": {},
   "outputs": [
    {
     "name": "stdout",
     "output_type": "stream",
     "text": [
      "Index(['id', 'date', 'application', 'offered', 'answered', 'avg_ans_delay',\n",
      "       'avg_ans_delay_seconds', 'max_ans_delay', 'abandoned',\n",
      "       'delay_calls_product'],\n",
      "      dtype='object')\n",
      "0   2018-02-14\n",
      "1   2018-02-15\n",
      "2   2018-02-16\n",
      "3   2018-02-19\n",
      "4   2018-02-20\n",
      "Name: date, dtype: datetime64[ns]\n"
     ]
    },
    {
     "name": "stderr",
     "output_type": "stream",
     "text": [
      "/tmp/ipykernel_8142/2387510822.py:4: UserWarning: The argument 'infer_datetime_format' is deprecated and will be removed in a future version. A strict version of it is now the default, see https://pandas.pydata.org/pdeps/0004-consistent-to-datetime-parsing.html. You can safely remove this argument.\n",
      "  df[\"date\"] = pd.to_datetime(\n",
      "/tmp/ipykernel_8142/2387510822.py:4: UserWarning: Parsing dates in %Y/%m/%d format when dayfirst=True was specified. Pass `dayfirst=False` or specify a format to silence this warning.\n",
      "  df[\"date\"] = pd.to_datetime(\n"
     ]
    }
   ],
   "source": [
    "# Convert the dates into datetime objects\n",
    "print(df.columns)  # confirm the column name is 'date'\n",
    "df[\"date\"] = pd.to_datetime(\n",
    "    df[\"date\"], errors=\"coerce\", dayfirst=True, infer_datetime_format=True\n",
    ")\n",
    "print(df[\"date\"].head())"
   ]
  },
  {
   "cell_type": "code",
   "execution_count": null,
   "id": "7db5315b",
   "metadata": {},
   "outputs": [],
   "source": []
  }
 ],
 "metadata": {
  "kernelspec": {
   "display_name": "myenv",
   "language": "python",
   "name": "python3"
  },
  "language_info": {
   "codemirror_mode": {
    "name": "ipython",
    "version": 3
   },
   "file_extension": ".py",
   "mimetype": "text/x-python",
   "name": "python",
   "nbconvert_exporter": "python",
   "pygments_lexer": "ipython3",
   "version": "3.11.2"
  }
 },
 "nbformat": 4,
 "nbformat_minor": 5
}
